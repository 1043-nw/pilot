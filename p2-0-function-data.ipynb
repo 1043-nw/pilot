{
 "cells": [
  {
   "cell_type": "markdown",
   "metadata": {},
   "source": [
    "# 第四部分 编程进阶"
   ]
  },
  {
   "cell_type": "markdown",
   "metadata": {},
   "source": [
    "在第二部分我们完成了编程入门的任务，在那一部分我们学习了：\n",
    "* 编程语言是怎么回事：编译器和解释器帮助我们让计算机按我们写的程序执行命令；\n",
    "* 编程语言的基本要素：值与变量，操作符与函数，逻辑判断与分支，循环，异常处理，注释，代码段与缩进格式；\n",
    "* 编程的基本困难在于控制复杂度，通过面向对象等抽象方法我们可以写出模块化的程序，从小到大一点一点的构建起复杂的系统。\n",
    "\n",
    "我们通过大量 Python 代码实例体验了这些要素，现在应该能够读懂简单的代码，也能依葫芦画瓢的写出一些简单的代码。如果能够独立完成第二部分最后的练习，基本上就具备了继续学习的基础。"
   ]
  },
  {
   "cell_type": "markdown",
   "metadata": {},
   "source": [
    "在第四部分我们将介绍编程中的一些进阶知识点，这些知识点都和两个东西有关：**函数**（*function*）和**数据**（*data*）。我们之前讲过，写程序和讲故事很像，数据就是故事里的人物，而函数就是发生在人物身上的事情，他们说的话，他们做的事，以及他们彼此之前的冲突。\n",
    "\n",
    "写程序来解决一个问题，基本上就是两件事：\n",
    "* 找到一个合适的结构来表述这个问题，这叫**数据结构**（*data structure*）；\n",
    "* 写出一组函数来对这些数据进行处理，这叫**算法**（*algorithm*）。\n",
    "\n",
    "数据结构和算法是紧密联系，不可分割的，我们经常从理解问题入手，找到本质上最适合表达问题的数据结构，然后在实现算法的过程中不断优化调整。"
   ]
  },
  {
   "cell_type": "markdown",
   "metadata": {},
   "source": [
    "优秀的编程语言会提供强大的语法工具来帮助我们编写各种各样的**函数**（*function*），也会提供大量内置**数据**（*data*）类型，覆盖我们常用的数据结构，即使没有覆盖到的，我们借助现成的函数和数据结构也可以自行实现。Python 在这两方面都做得很好。\n",
    "\n",
    "我们会先介绍 Python 中关于函数的一些高级用法，然后循序渐进的介绍各种数据结构极其应用场景。在这个过程中会更加强调应用，所以做好准备，一边学习一边编程，在实践中前进。"
   ]
  },
  {
   "cell_type": "markdown",
   "metadata": {},
   "source": []
  }
 ],
 "metadata": {
  "kernelspec": {
   "display_name": "Python 3",
   "language": "python",
   "name": "python3"
  },
  "language_info": {
   "codemirror_mode": {
    "name": "ipython",
    "version": 3
   },
   "file_extension": ".py",
   "mimetype": "text/x-python",
   "name": "python",
   "nbconvert_exporter": "python",
   "pygments_lexer": "ipython3",
   "version": "3.7.4"
  }
 },
 "nbformat": 4,
 "nbformat_minor": 4
}
